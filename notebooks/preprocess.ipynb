{
 "cells": [
  {
   "cell_type": "code",
   "execution_count": 3,
   "metadata": {},
   "outputs": [],
   "source": [
    "import pandas as pd\n",
    "import numpy as np\n",
    "import matplotlib.pyplot as plt\n",
    "import seaborn as sns\n",
    "from data.load_data import load_data"
   ]
  },
  {
   "cell_type": "code",
   "execution_count": 4,
   "metadata": {},
   "outputs": [
    {
     "name": "stdout",
     "output_type": "stream",
     "text": [
      "Data successfully loaded from ../data/raw/water_quality.csv\n"
     ]
    }
   ],
   "source": [
    "df= load_data(\"../data/raw/water_quality.csv\")"
   ]
  },
  {
   "cell_type": "code",
   "execution_count": 5,
   "metadata": {},
   "outputs": [],
   "source": [
    "# CHecking for null values\n",
    "null_vals =df.isna().sum()\n"
   ]
  },
  {
   "cell_type": "code",
   "execution_count": 4,
   "metadata": {},
   "outputs": [
    {
     "name": "stderr",
     "output_type": "stream",
     "text": [
      "C:\\Users\\Amol Mehra\\AppData\\Local\\Temp\\ipykernel_16912\\391466451.py:3: FutureWarning: A value is trying to be set on a copy of a DataFrame or Series through chained assignment using an inplace method.\n",
      "The behavior will change in pandas 3.0. This inplace method will never work because the intermediate object on which we are setting values always behaves as a copy.\n",
      "\n",
      "For example, when doing 'df[col].method(value, inplace=True)', try using 'df.method({col: value}, inplace=True)' or df[col] = df[col].method(value) instead, to perform the operation inplace on the original object.\n",
      "\n",
      "\n",
      "  df['ph'].fillna(df['ph'].median(),inplace=True)\n",
      "C:\\Users\\Amol Mehra\\AppData\\Local\\Temp\\ipykernel_16912\\391466451.py:4: FutureWarning: A value is trying to be set on a copy of a DataFrame or Series through chained assignment using an inplace method.\n",
      "The behavior will change in pandas 3.0. This inplace method will never work because the intermediate object on which we are setting values always behaves as a copy.\n",
      "\n",
      "For example, when doing 'df[col].method(value, inplace=True)', try using 'df.method({col: value}, inplace=True)' or df[col] = df[col].method(value) instead, to perform the operation inplace on the original object.\n",
      "\n",
      "\n",
      "  df['Sulfate'].fillna(df['Sulfate'].median(),inplace=True)\n",
      "C:\\Users\\Amol Mehra\\AppData\\Local\\Temp\\ipykernel_16912\\391466451.py:5: FutureWarning: A value is trying to be set on a copy of a DataFrame or Series through chained assignment using an inplace method.\n",
      "The behavior will change in pandas 3.0. This inplace method will never work because the intermediate object on which we are setting values always behaves as a copy.\n",
      "\n",
      "For example, when doing 'df[col].method(value, inplace=True)', try using 'df.method({col: value}, inplace=True)' or df[col] = df[col].method(value) instead, to perform the operation inplace on the original object.\n",
      "\n",
      "\n",
      "  df['Trihalomethanes'].fillna(df['Trihalomethanes'].median(),inplace=True)\n"
     ]
    }
   ],
   "source": [
    "# Fiiling the missing values\n",
    "\n",
    "df['ph'].fillna(df['ph'].median(),inplace=True)\n",
    "df['Sulfate'].fillna(df['Sulfate'].median(),inplace=True)\n",
    "df['Trihalomethanes'].fillna(df['Trihalomethanes'].median(),inplace=True)"
   ]
  },
  {
   "cell_type": "code",
   "execution_count": 5,
   "metadata": {},
   "outputs": [
    {
     "data": {
      "text/plain": [
       "ph                 0\n",
       "Hardness           0\n",
       "Solids             0\n",
       "Chloramines        0\n",
       "Sulfate            0\n",
       "Conductivity       0\n",
       "Organic_carbon     0\n",
       "Trihalomethanes    0\n",
       "Turbidity          0\n",
       "Potability         0\n",
       "dtype: int64"
      ]
     },
     "execution_count": 5,
     "metadata": {},
     "output_type": "execute_result"
    }
   ],
   "source": [
    "# CHecking again for null values\n",
    "df.isna().sum()"
   ]
  },
  {
   "cell_type": "code",
   "execution_count": 8,
   "metadata": {},
   "outputs": [],
   "source": [
    "from sklearn.preprocessing import StandardScaler\n",
    "# Features (X) are obtained by dropping the 'Potability' column\n",
    "X = df.drop(columns=['Potability'])\n",
    "\n",
    "# Target variable (y) is set to the 'Potability' column\n",
    "y = df['Potability']\n"
   ]
  },
  {
   "cell_type": "code",
   "execution_count": 9,
   "metadata": {},
   "outputs": [
    {
     "data": {
      "text/html": [
       "<style type=\"text/css\">\n",
       "#T_0d97d_row0_col0, #T_0d97d_row1_col0, #T_0d97d_row2_col0, #T_0d97d_row3_col0, #T_0d97d_row4_col0, #T_0d97d_row5_col0, #T_0d97d_row6_col0, #T_0d97d_row7_col0, #T_0d97d_row8_col0 {\n",
       "  background-color: #fff7fb;\n",
       "  color: #000000;\n",
       "}\n",
       "#T_0d97d_row0_col1 {\n",
       "  background-color: #71a8ce;\n",
       "  color: #f1f1f1;\n",
       "}\n",
       "#T_0d97d_row0_col2 {\n",
       "  background-color: #3d93c2;\n",
       "  color: #f1f1f1;\n",
       "}\n",
       "#T_0d97d_row0_col3, #T_0d97d_row1_col3, #T_0d97d_row2_col3, #T_0d97d_row3_col3, #T_0d97d_row4_col3, #T_0d97d_row5_col3, #T_0d97d_row6_col3, #T_0d97d_row7_col3, #T_0d97d_row8_col3 {\n",
       "  background-color: #023858;\n",
       "  color: #f1f1f1;\n",
       "}\n",
       "#T_0d97d_row1_col1 {\n",
       "  background-color: #60a1ca;\n",
       "  color: #f1f1f1;\n",
       "}\n",
       "#T_0d97d_row1_col2 {\n",
       "  background-color: #2987bc;\n",
       "  color: #f1f1f1;\n",
       "}\n",
       "#T_0d97d_row2_col1 {\n",
       "  background-color: #acc0dd;\n",
       "  color: #000000;\n",
       "}\n",
       "#T_0d97d_row2_col2 {\n",
       "  background-color: #73a9cf;\n",
       "  color: #f1f1f1;\n",
       "}\n",
       "#T_0d97d_row3_col1 {\n",
       "  background-color: #65a3cb;\n",
       "  color: #f1f1f1;\n",
       "}\n",
       "#T_0d97d_row3_col2 {\n",
       "  background-color: #2a88bc;\n",
       "  color: #f1f1f1;\n",
       "}\n",
       "#T_0d97d_row4_col1 {\n",
       "  background-color: #4c99c5;\n",
       "  color: #f1f1f1;\n",
       "}\n",
       "#T_0d97d_row4_col2 {\n",
       "  background-color: #1e80b8;\n",
       "  color: #f1f1f1;\n",
       "}\n",
       "#T_0d97d_row5_col1 {\n",
       "  background-color: #91b5d6;\n",
       "  color: #000000;\n",
       "}\n",
       "#T_0d97d_row5_col2 {\n",
       "  background-color: #529bc7;\n",
       "  color: #f1f1f1;\n",
       "}\n",
       "#T_0d97d_row6_col1 {\n",
       "  background-color: #83afd3;\n",
       "  color: #f1f1f1;\n",
       "}\n",
       "#T_0d97d_row6_col2 {\n",
       "  background-color: #4897c4;\n",
       "  color: #f1f1f1;\n",
       "}\n",
       "#T_0d97d_row7_col1 {\n",
       "  background-color: #63a2cb;\n",
       "  color: #f1f1f1;\n",
       "}\n",
       "#T_0d97d_row7_col2 {\n",
       "  background-color: #2786bb;\n",
       "  color: #f1f1f1;\n",
       "}\n",
       "#T_0d97d_row8_col1 {\n",
       "  background-color: #7eadd1;\n",
       "  color: #f1f1f1;\n",
       "}\n",
       "#T_0d97d_row8_col2 {\n",
       "  background-color: #3790c0;\n",
       "  color: #f1f1f1;\n",
       "}\n",
       "</style>\n",
       "<table id=\"T_0d97d\">\n",
       "  <thead>\n",
       "    <tr>\n",
       "      <th class=\"blank level0\" >&nbsp;</th>\n",
       "      <th id=\"T_0d97d_level0_col0\" class=\"col_heading level0 col0\" >min</th>\n",
       "      <th id=\"T_0d97d_level0_col1\" class=\"col_heading level0 col1\" >mean</th>\n",
       "      <th id=\"T_0d97d_level0_col2\" class=\"col_heading level0 col2\" >std</th>\n",
       "      <th id=\"T_0d97d_level0_col3\" class=\"col_heading level0 col3\" >max</th>\n",
       "    </tr>\n",
       "  </thead>\n",
       "  <tbody>\n",
       "    <tr>\n",
       "      <th id=\"T_0d97d_level0_row0\" class=\"row_heading level0 row0\" >0</th>\n",
       "      <td id=\"T_0d97d_row0_col0\" class=\"data row0 col0\" >-4.812980</td>\n",
       "      <td id=\"T_0d97d_row0_col1\" class=\"data row0 col1\" >0.000000</td>\n",
       "      <td id=\"T_0d97d_row0_col2\" class=\"data row0 col2\" >1.000153</td>\n",
       "      <td id=\"T_0d97d_row0_col3\" class=\"data row0 col3\" >4.712024</td>\n",
       "    </tr>\n",
       "    <tr>\n",
       "      <th id=\"T_0d97d_level0_row1\" class=\"row_heading level0 row1\" >1</th>\n",
       "      <td id=\"T_0d97d_row1_col0\" class=\"data row1 col0\" >-4.530454</td>\n",
       "      <td id=\"T_0d97d_row1_col1\" class=\"data row1 col1\" >0.000000</td>\n",
       "      <td id=\"T_0d97d_row1_col2\" class=\"data row1 col2\" >1.000153</td>\n",
       "      <td id=\"T_0d97d_row1_col3\" class=\"data row1 col3\" >3.855680</td>\n",
       "    </tr>\n",
       "    <tr>\n",
       "      <th id=\"T_0d97d_level0_row2\" class=\"row_heading level0 row2\" >2</th>\n",
       "      <td id=\"T_0d97d_row2_col0\" class=\"data row2 col0\" >-2.474344</td>\n",
       "      <td id=\"T_0d97d_row2_col1\" class=\"data row2 col1\" >-0.000000</td>\n",
       "      <td id=\"T_0d97d_row2_col2\" class=\"data row2 col2\" >1.000153</td>\n",
       "      <td id=\"T_0d97d_row2_col3\" class=\"data row2 col3\" >4.472689</td>\n",
       "    </tr>\n",
       "    <tr>\n",
       "      <th id=\"T_0d97d_level0_row3\" class=\"row_heading level0 row3\" >3</th>\n",
       "      <td id=\"T_0d97d_row3_col0\" class=\"data row3 col0\" >-4.277288</td>\n",
       "      <td id=\"T_0d97d_row3_col1\" class=\"data row3 col1\" >0.000000</td>\n",
       "      <td id=\"T_0d97d_row3_col2\" class=\"data row3 col2\" >1.000153</td>\n",
       "      <td id=\"T_0d97d_row3_col3\" class=\"data row3 col3\" >3.793631</td>\n",
       "    </tr>\n",
       "    <tr>\n",
       "      <th id=\"T_0d97d_level0_row4\" class=\"row_heading level0 row4\" >4</th>\n",
       "      <td id=\"T_0d97d_row4_col0\" class=\"data row4 col0\" >-5.661810</td>\n",
       "      <td id=\"T_0d97d_row4_col1\" class=\"data row4 col1\" >-0.000000</td>\n",
       "      <td id=\"T_0d97d_row4_col2\" class=\"data row4 col2\" >1.000153</td>\n",
       "      <td id=\"T_0d97d_row4_col3\" class=\"data row4 col3\" >4.079388</td>\n",
       "    </tr>\n",
       "    <tr>\n",
       "      <th id=\"T_0d97d_level0_row5\" class=\"row_heading level0 row5\" >5</th>\n",
       "      <td id=\"T_0d97d_row5_col0\" class=\"data row5 col0\" >-3.028290</td>\n",
       "      <td id=\"T_0d97d_row5_col1\" class=\"data row5 col1\" >0.000000</td>\n",
       "      <td id=\"T_0d97d_row5_col2\" class=\"data row5 col2\" >1.000153</td>\n",
       "      <td id=\"T_0d97d_row5_col3\" class=\"data row5 col3\" >4.048144</td>\n",
       "    </tr>\n",
       "    <tr>\n",
       "      <th id=\"T_0d97d_level0_row6\" class=\"row_heading level0 row6\" >6</th>\n",
       "      <td id=\"T_0d97d_row6_col0\" class=\"data row6 col0\" >-3.653635</td>\n",
       "      <td id=\"T_0d97d_row6_col1\" class=\"data row6 col1\" >0.000000</td>\n",
       "      <td id=\"T_0d97d_row6_col2\" class=\"data row6 col2\" >1.000153</td>\n",
       "      <td id=\"T_0d97d_row6_col3\" class=\"data row6 col3\" >4.237147</td>\n",
       "    </tr>\n",
       "    <tr>\n",
       "      <th id=\"T_0d97d_level0_row7\" class=\"row_heading level0 row7\" >7</th>\n",
       "      <td id=\"T_0d97d_row7_col0\" class=\"data row7 col0\" >-4.164850</td>\n",
       "      <td id=\"T_0d97d_row7_col1\" class=\"data row7 col1\" >-0.000000</td>\n",
       "      <td id=\"T_0d97d_row7_col2\" class=\"data row7 col2\" >1.000153</td>\n",
       "      <td id=\"T_0d97d_row7_col3\" class=\"data row7 col3\" >3.652598</td>\n",
       "    </tr>\n",
       "    <tr>\n",
       "      <th id=\"T_0d97d_level0_row8\" class=\"row_heading level0 row8\" >8</th>\n",
       "      <td id=\"T_0d97d_row8_col0\" class=\"data row8 col0\" >-3.225560</td>\n",
       "      <td id=\"T_0d97d_row8_col1\" class=\"data row8 col1\" >0.000000</td>\n",
       "      <td id=\"T_0d97d_row8_col2\" class=\"data row8 col2\" >1.000153</td>\n",
       "      <td id=\"T_0d97d_row8_col3\" class=\"data row8 col3\" >3.552921</td>\n",
       "    </tr>\n",
       "  </tbody>\n",
       "</table>\n"
      ],
      "text/plain": [
       "<pandas.io.formats.style.Styler at 0x25a97fcff70>"
      ]
     },
     "execution_count": 9,
     "metadata": {},
     "output_type": "execute_result"
    }
   ],
   "source": [
    "# Initialize StandardScaler\n",
    "scaler = StandardScaler()\n",
    "\n",
    "# Fit and transform the data\n",
    "X_standardized = pd.DataFrame(scaler.fit_transform(X))\n",
    "X_standardized.describe().loc[['min', 'mean', 'std', 'max']].T.style.background_gradient(axis=1)\n"
   ]
  },
  {
   "cell_type": "code",
   "execution_count": 10,
   "metadata": {},
   "outputs": [
    {
     "data": {
      "text/plain": [
       "0    0\n",
       "1    0\n",
       "2    0\n",
       "3    0\n",
       "4    0\n",
       "Name: Potability, dtype: int64"
      ]
     },
     "execution_count": 10,
     "metadata": {},
     "output_type": "execute_result"
    }
   ],
   "source": [
    "y.head(5)"
   ]
  },
  {
   "cell_type": "code",
   "execution_count": 12,
   "metadata": {},
   "outputs": [
    {
     "data": {
      "text/html": [
       "<div>\n",
       "<style scoped>\n",
       "    .dataframe tbody tr th:only-of-type {\n",
       "        vertical-align: middle;\n",
       "    }\n",
       "\n",
       "    .dataframe tbody tr th {\n",
       "        vertical-align: top;\n",
       "    }\n",
       "\n",
       "    .dataframe thead th {\n",
       "        text-align: right;\n",
       "    }\n",
       "</style>\n",
       "<table border=\"1\" class=\"dataframe\">\n",
       "  <thead>\n",
       "    <tr style=\"text-align: right;\">\n",
       "      <th></th>\n",
       "      <th>ph</th>\n",
       "      <th>Hardness</th>\n",
       "      <th>Solids</th>\n",
       "      <th>Chloramines</th>\n",
       "      <th>Sulfate</th>\n",
       "      <th>Conductivity</th>\n",
       "      <th>Organic_carbon</th>\n",
       "      <th>Trihalomethanes</th>\n",
       "      <th>Turbidity</th>\n",
       "    </tr>\n",
       "  </thead>\n",
       "  <tbody>\n",
       "    <tr>\n",
       "      <th>0</th>\n",
       "      <td>7.036752</td>\n",
       "      <td>204.890455</td>\n",
       "      <td>20791.318981</td>\n",
       "      <td>7.300212</td>\n",
       "      <td>368.516441</td>\n",
       "      <td>564.308654</td>\n",
       "      <td>10.379783</td>\n",
       "      <td>86.990970</td>\n",
       "      <td>2.963135</td>\n",
       "    </tr>\n",
       "    <tr>\n",
       "      <th>1</th>\n",
       "      <td>3.716080</td>\n",
       "      <td>129.422921</td>\n",
       "      <td>18630.057858</td>\n",
       "      <td>6.635246</td>\n",
       "      <td>333.073546</td>\n",
       "      <td>592.885359</td>\n",
       "      <td>15.180013</td>\n",
       "      <td>56.329076</td>\n",
       "      <td>4.500656</td>\n",
       "    </tr>\n",
       "    <tr>\n",
       "      <th>2</th>\n",
       "      <td>8.099124</td>\n",
       "      <td>224.236259</td>\n",
       "      <td>19909.541732</td>\n",
       "      <td>9.275884</td>\n",
       "      <td>333.073546</td>\n",
       "      <td>418.606213</td>\n",
       "      <td>16.868637</td>\n",
       "      <td>66.420093</td>\n",
       "      <td>3.055934</td>\n",
       "    </tr>\n",
       "    <tr>\n",
       "      <th>3</th>\n",
       "      <td>8.316766</td>\n",
       "      <td>214.373394</td>\n",
       "      <td>22018.417441</td>\n",
       "      <td>8.059332</td>\n",
       "      <td>356.886136</td>\n",
       "      <td>363.266516</td>\n",
       "      <td>18.436524</td>\n",
       "      <td>100.341674</td>\n",
       "      <td>4.628771</td>\n",
       "    </tr>\n",
       "    <tr>\n",
       "      <th>4</th>\n",
       "      <td>9.092223</td>\n",
       "      <td>181.101509</td>\n",
       "      <td>17978.986339</td>\n",
       "      <td>6.546600</td>\n",
       "      <td>310.135738</td>\n",
       "      <td>398.410813</td>\n",
       "      <td>11.558279</td>\n",
       "      <td>31.997993</td>\n",
       "      <td>4.075075</td>\n",
       "    </tr>\n",
       "  </tbody>\n",
       "</table>\n",
       "</div>"
      ],
      "text/plain": [
       "         ph    Hardness  ...  Trihalomethanes  Turbidity\n",
       "0  7.036752  204.890455  ...        86.990970   2.963135\n",
       "1  3.716080  129.422921  ...        56.329076   4.500656\n",
       "2  8.099124  224.236259  ...        66.420093   3.055934\n",
       "3  8.316766  214.373394  ...       100.341674   4.628771\n",
       "4  9.092223  181.101509  ...        31.997993   4.075075\n",
       "\n",
       "[5 rows x 9 columns]"
      ]
     },
     "execution_count": 12,
     "metadata": {},
     "output_type": "execute_result"
    }
   ],
   "source": [
    "X.head(5)"
   ]
  },
  {
   "cell_type": "code",
   "execution_count": 13,
   "metadata": {},
   "outputs": [],
   "source": [
    "X[\"Potability\"]=y"
   ]
  },
  {
   "cell_type": "code",
   "execution_count": 14,
   "metadata": {},
   "outputs": [
    {
     "data": {
      "text/plain": [
       "Index(['ph', 'Hardness', 'Solids', 'Chloramines', 'Sulfate', 'Conductivity',\n",
       "       'Organic_carbon', 'Trihalomethanes', 'Turbidity', 'Potability'],\n",
       "      dtype='object')"
      ]
     },
     "execution_count": 14,
     "metadata": {},
     "output_type": "execute_result"
    }
   ],
   "source": [
    "X.columns"
   ]
  },
  {
   "cell_type": "code",
   "execution_count": 15,
   "metadata": {},
   "outputs": [],
   "source": [
    "df_preprocessed = X.copy()"
   ]
  }
 ],
 "metadata": {
  "kernelspec": {
   "display_name": "Python 3",
   "language": "python",
   "name": "python3"
  },
  "language_info": {
   "codemirror_mode": {
    "name": "ipython",
    "version": 3
   },
   "file_extension": ".py",
   "mimetype": "text/x-python",
   "name": "python",
   "nbconvert_exporter": "python",
   "pygments_lexer": "ipython3",
   "version": "3.10.0"
  }
 },
 "nbformat": 4,
 "nbformat_minor": 2
}
