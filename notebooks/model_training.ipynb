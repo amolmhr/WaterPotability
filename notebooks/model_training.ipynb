{
 "cells": [
  {
   "cell_type": "markdown",
   "metadata": {},
   "source": [
    "<h1><b><p style=\"background-image: url(https://i.postimg.cc/ZK8sS4cQ/Free-Wallpaper-Cartoon-Blue-Background-Images-Cartoon-Blue-Watercolor-Background-Material-Ocean.png);font-family:tahoma;font-size:120%;color:navy;text-align:center;border-radius:15px 50px; padding:7px; border:solid 2px #09375b; box-shadow: 10px 10px 10px #042b4c\">Step5 | Modeling</p></b></h1>\n"
   ]
  },
  {
   "cell_type": "code",
   "execution_count": 1,
   "metadata": {},
   "outputs": [],
   "source": [
    "import pandas as pd\n",
    "import numpy as np\n",
    "from data.load_data import load_data"
   ]
  },
  {
   "cell_type": "code",
   "execution_count": 2,
   "metadata": {},
   "outputs": [
    {
     "name": "stdout",
     "output_type": "stream",
     "text": [
      "Data successfully loaded from ../data/processed/processed_data.csv\n"
     ]
    }
   ],
   "source": [
    "df=load_data(\"../data/processed/processed_data.csv\")"
   ]
  },
  {
   "cell_type": "code",
   "execution_count": 3,
   "metadata": {},
   "outputs": [],
   "source": [
    "from sklearn.model_selection import train_test_split\n",
    "\n",
    "# X contains the features, and y contains the target variable\n",
    "X = df.drop(columns=['Potability'])\n",
    "y = df['Potability']\n"
   ]
  },
  {
   "cell_type": "code",
   "execution_count": 4,
   "metadata": {},
   "outputs": [],
   "source": [
    "X_train, X_test, y_train, y_test = train_test_split(X, y, test_size=0.2, random_state=42)\n"
   ]
  },
  {
   "cell_type": "code",
   "execution_count": 5,
   "metadata": {},
   "outputs": [],
   "source": [
    "from sklearn.linear_model import LogisticRegression\n",
    "# Initialize the logistic regression model\n",
    "logistic_regression = LogisticRegression()\n",
    "\n",
    "# Train the model on the training data\n",
    "logistic_regression.fit(X_train, y_train)\n",
    "\n",
    "# Predict the target variable on the testing data\n",
    "y_test_pred = logistic_regression.predict(X_test)\n",
    "y_train_pred= logistic_regression.predict(X_train)"
   ]
  },
  {
   "cell_type": "code",
   "execution_count": 7,
   "metadata": {},
   "outputs": [],
   "source": [
    "from sklearn.metrics import accuracy_score, precision_score, recall_score, f1_score\n",
    "\n",
    "def calculate_performance_metrics(y_train, y_train_pred, y_test, y_test_pred):\n",
    "    # Calculate performance metrics\n",
    "    train_accuracy = accuracy_score(y_train, y_train_pred)\n",
    "    test_accuracy = accuracy_score(y_test, y_test_pred)\n",
    "\n",
    "    train_precision = precision_score(y_train, y_train_pred)\n",
    "    test_precision = precision_score(y_test, y_test_pred)\n",
    "\n",
    "    train_recall = recall_score(y_train, y_train_pred)\n",
    "    test_recall = recall_score(y_test, y_test_pred)\n",
    "\n",
    "    train_f1 = f1_score(y_train, y_train_pred)\n",
    "    test_f1 = f1_score(y_test, y_test_pred)\n",
    "\n",
    "    # Print the metrics with 4 decimal places\n",
    "    print(\"Training Accuracy: {:.4f}\".format(train_accuracy))\n",
    "    print(\"Testing Accuracy: {:.4f}\".format(test_accuracy))\n",
    "\n",
    "    print(\"Training Precision: {:.4f}\".format(train_precision))\n",
    "    print(\"Testing Precision: {:.4f}\".format(test_precision))\n",
    "\n",
    "    print(\"Training Recall: {:.4f}\".format(train_recall))\n",
    "    print(\"Testing Recall: {:.4f}\".format(test_recall))\n",
    "\n",
    "    print(\"Training F1-score: {:.4f}\".format(train_f1))\n",
    "    print(\"Testing F1-score: {:.4f}\".format(test_f1))"
   ]
  },
  {
   "cell_type": "code",
   "execution_count": 9,
   "metadata": {},
   "outputs": [
    {
     "name": "stdout",
     "output_type": "stream",
     "text": [
      "Logistic Regression Results:\n",
      "Training Accuracy: 0.6053\n",
      "Testing Accuracy: 0.6280\n",
      "Training Precision: 0.0000\n",
      "Testing Precision: 0.0000\n",
      "Training Recall: 0.0000\n",
      "Testing Recall: 0.0000\n",
      "Training F1-score: 0.0000\n",
      "Testing F1-score: 0.0000\n"
     ]
    },
    {
     "name": "stderr",
     "output_type": "stream",
     "text": [
      "d:\\water_potability\\water\\lib\\site-packages\\sklearn\\metrics\\_classification.py:1565: UndefinedMetricWarning: Precision is ill-defined and being set to 0.0 due to no predicted samples. Use `zero_division` parameter to control this behavior.\n",
      "  _warn_prf(average, modifier, f\"{metric.capitalize()} is\", len(result))\n",
      "d:\\water_potability\\water\\lib\\site-packages\\sklearn\\metrics\\_classification.py:1565: UndefinedMetricWarning: Precision is ill-defined and being set to 0.0 due to no predicted samples. Use `zero_division` parameter to control this behavior.\n",
      "  _warn_prf(average, modifier, f\"{metric.capitalize()} is\", len(result))\n"
     ]
    }
   ],
   "source": [
    "print(\"Logistic Regression Results:\")\n",
    "calculate_performance_metrics(y_train, y_train_pred, y_test, y_test_pred)"
   ]
  },
  {
   "cell_type": "code",
   "execution_count": 19,
   "metadata": {},
   "outputs": [
    {
     "name": "stdout",
     "output_type": "stream",
     "text": [
      "Training Accuracy: 0.7977\n",
      "Testing Accuracy: 0.6098\n",
      "Training Precision: 0.8014\n",
      "Testing Precision: 0.4709\n",
      "Training Recall: 0.6480\n",
      "Testing Recall: 0.3975\n",
      "Training F1-score: 0.7166\n",
      "Testing F1-score: 0.4311\n"
     ]
    }
   ],
   "source": [
    "from sklearn.tree import DecisionTreeClassifier\n",
    "\n",
    "# Initialize the Decision Tree classifier\n",
    "decision_tree = DecisionTreeClassifier(random_state=24,max_leaf_nodes=100)\n",
    "\n",
    "# Train the classifier on the training data\n",
    "decision_tree.fit(X_train, y_train)\n",
    "\n",
    "# Predict the target variable on the testing data\n",
    "y_test_pred = decision_tree.predict(X_test)\n",
    "y_train_pred= decision_tree.predict(X_train)\n",
    "\n",
    "calculate_performance_metrics(y_train, y_train_pred, y_test, y_test_pred)"
   ]
  },
  {
   "cell_type": "code",
   "execution_count": 21,
   "metadata": {},
   "outputs": [
    {
     "name": "stdout",
     "output_type": "stream",
     "text": [
      "Training Accuracy: 0.7630\n",
      "Testing Accuracy: 0.6311\n",
      "Training Precision: 0.7559\n",
      "Testing Precision: 0.5050\n",
      "Training Recall: 0.5899\n",
      "Testing Recall: 0.4180\n",
      "Training F1-score: 0.6627\n",
      "Testing F1-score: 0.4574\n"
     ]
    }
   ],
   "source": [
    "from sklearn.neighbors import KNeighborsClassifier\n",
    "\n",
    "# Initialize K-NN classifier\n",
    "knn_classifier = KNeighborsClassifier()\n",
    "\n",
    "# Train the classifier on the resampled training data\n",
    "knn_classifier.fit(X_train, y_train)\n",
    "\n",
    "y_test_pred = knn_classifier.predict(X_test)\n",
    "y_train_pred= knn_classifier.predict(X_train)\n",
    "\n",
    "calculate_performance_metrics(y_train, y_train_pred, y_test, y_test_pred)"
   ]
  },
  {
   "cell_type": "code",
   "execution_count": 22,
   "metadata": {},
   "outputs": [
    {
     "name": "stdout",
     "output_type": "stream",
     "text": [
      "Training Accuracy: 0.7366\n",
      "Testing Accuracy: 0.6921\n",
      "Training Precision: 0.8568\n",
      "Testing Precision: 0.6842\n",
      "Training Recall: 0.3994\n",
      "Testing Recall: 0.3197\n",
      "Training F1-score: 0.5449\n",
      "Testing F1-score: 0.4358\n"
     ]
    }
   ],
   "source": [
    "from sklearn.svm import SVC\n",
    "\n",
    "# Initialize SVM classifier\n",
    "svm_classifier = SVC()\n",
    "\n",
    "# Train the classifier on the sampled training data\n",
    "svm_classifier.fit(X_train, y_train)\n",
    "\n",
    "y_test_pred = svm_classifier.predict(X_test)\n",
    "y_train_pred= svm_classifier.predict(X_train)\n",
    "\n",
    "calculate_performance_metrics(y_train, y_train_pred, y_test, y_test_pred)"
   ]
  },
  {
   "cell_type": "code",
   "execution_count": 23,
   "metadata": {},
   "outputs": [
    {
     "name": "stdout",
     "output_type": "stream",
     "text": [
      "Training Accuracy: 0.6263\n",
      "Testing Accuracy: 0.6311\n",
      "Training Precision: 0.5621\n",
      "Testing Precision: 0.5096\n",
      "Training Recall: 0.2408\n",
      "Testing Recall: 0.2172\n",
      "Training F1-score: 0.3372\n",
      "Testing F1-score: 0.3046\n"
     ]
    }
   ],
   "source": [
    "from sklearn.naive_bayes import GaussianNB\n",
    "\n",
    "# Initialize Naive Bayes classifier\n",
    "nb_classifier = GaussianNB()\n",
    "\n",
    "# Train the classifier on the resampled training data\n",
    "nb_classifier.fit(X_train, y_train)\n",
    "\n",
    "y_test_pred = nb_classifier.predict(X_test)\n",
    "y_train_pred= nb_classifier.predict(X_train)\n",
    "\n",
    "calculate_performance_metrics(y_train, y_train_pred, y_test, y_test_pred)"
   ]
  },
  {
   "cell_type": "code",
   "execution_count": 24,
   "metadata": {},
   "outputs": [
    {
     "name": "stdout",
     "output_type": "stream",
     "text": [
      "Training Accuracy: 1.0000\n",
      "Testing Accuracy: 0.6860\n",
      "Training Precision: 1.0000\n",
      "Testing Precision: 0.6462\n",
      "Training Recall: 1.0000\n",
      "Testing Recall: 0.3443\n",
      "Training F1-score: 1.0000\n",
      "Testing F1-score: 0.4492\n"
     ]
    }
   ],
   "source": [
    "from sklearn.ensemble import RandomForestClassifier\n",
    "\n",
    "# Initialize Random Forest classifier\n",
    "rf_classifier = RandomForestClassifier(random_state=24)\n",
    "\n",
    "# Train the classifier on the sampled training data\n",
    "rf_classifier.fit(X_train, y_train)\n",
    "\n",
    "# Predict the target variable on the testing data\n",
    "y_test_pred = rf_classifier.predict(X_test)\n",
    "y_train_pred= rf_classifier.predict(X_train)\n",
    "\n",
    "calculate_performance_metrics(y_train, y_train_pred, y_test, y_test_pred)"
   ]
  },
  {
   "cell_type": "code",
   "execution_count": 25,
   "metadata": {},
   "outputs": [
    {
     "name": "stdout",
     "output_type": "stream",
     "text": [
      "Training Accuracy: 0.6195\n",
      "Testing Accuracy: 0.6387\n",
      "Training Precision: 0.7403\n",
      "Testing Precision: 0.7059\n",
      "Training Recall: 0.0551\n",
      "Testing Recall: 0.0492\n",
      "Training F1-score: 0.1026\n",
      "Testing F1-score: 0.0920\n"
     ]
    }
   ],
   "source": [
    "from sklearn.ensemble import AdaBoostClassifier\n",
    "\n",
    "# Initialize AdaBoost classifier\n",
    "ada_classifier = AdaBoostClassifier()\n",
    "\n",
    "# Train the classifier on the resampled training data\n",
    "ada_classifier.fit(X_train, y_train)\n",
    "\n",
    "y_test_pred =ada_classifier.predict(X_test)\n",
    "y_train_pred=ada_classifier.predict(X_train)\n",
    "\n",
    "calculate_performance_metrics(y_train, y_train_pred, y_test, y_test_pred)"
   ]
  }
 ],
 "metadata": {
  "kernelspec": {
   "display_name": "Python 3",
   "language": "python",
   "name": "python3"
  },
  "language_info": {
   "codemirror_mode": {
    "name": "ipython",
    "version": 3
   },
   "file_extension": ".py",
   "mimetype": "text/x-python",
   "name": "python",
   "nbconvert_exporter": "python",
   "pygments_lexer": "ipython3",
   "version": "3.10.0"
  }
 },
 "nbformat": 4,
 "nbformat_minor": 2
}
