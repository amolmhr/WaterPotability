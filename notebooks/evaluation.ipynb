{
 "cells": [
  {
   "cell_type": "code",
   "execution_count": 2,
   "metadata": {},
   "outputs": [],
   "source": [
    "import pandas as pd \n",
    "import numpy as np"
   ]
  },
  {
   "cell_type": "code",
   "execution_count": 3,
   "metadata": {},
   "outputs": [],
   "source": [
    "df = pd.read_csv(\"D:/water_potability/WaterPotability/src/models/model_metrics.csv\")"
   ]
  },
  {
   "cell_type": "code",
   "execution_count": 4,
   "metadata": {},
   "outputs": [
    {
     "data": {
      "text/html": [
       "<div>\n",
       "<style scoped>\n",
       "    .dataframe tbody tr th:only-of-type {\n",
       "        vertical-align: middle;\n",
       "    }\n",
       "\n",
       "    .dataframe tbody tr th {\n",
       "        vertical-align: top;\n",
       "    }\n",
       "\n",
       "    .dataframe thead th {\n",
       "        text-align: right;\n",
       "    }\n",
       "</style>\n",
       "<table border=\"1\" class=\"dataframe\">\n",
       "  <thead>\n",
       "    <tr style=\"text-align: right;\">\n",
       "      <th></th>\n",
       "      <th>model</th>\n",
       "      <th>accuracy</th>\n",
       "      <th>precision</th>\n",
       "      <th>recall</th>\n",
       "      <th>f1_score</th>\n",
       "    </tr>\n",
       "  </thead>\n",
       "  <tbody>\n",
       "    <tr>\n",
       "      <th>0</th>\n",
       "      <td>LogisticRegression</td>\n",
       "      <td>0.628049</td>\n",
       "      <td>0.394445</td>\n",
       "      <td>0.628049</td>\n",
       "      <td>0.484562</td>\n",
       "    </tr>\n",
       "    <tr>\n",
       "      <th>1</th>\n",
       "      <td>DecisionTreeClassifier</td>\n",
       "      <td>0.573171</td>\n",
       "      <td>0.580383</td>\n",
       "      <td>0.573171</td>\n",
       "      <td>0.576264</td>\n",
       "    </tr>\n",
       "    <tr>\n",
       "      <th>2</th>\n",
       "      <td>RandomForestClassifier</td>\n",
       "      <td>0.670732</td>\n",
       "      <td>0.656770</td>\n",
       "      <td>0.670732</td>\n",
       "      <td>0.642212</td>\n",
       "    </tr>\n",
       "    <tr>\n",
       "      <th>3</th>\n",
       "      <td>GaussianNB</td>\n",
       "      <td>0.631098</td>\n",
       "      <td>0.600287</td>\n",
       "      <td>0.631098</td>\n",
       "      <td>0.583681</td>\n",
       "    </tr>\n",
       "    <tr>\n",
       "      <th>4</th>\n",
       "      <td>GradientBoostingClassifier</td>\n",
       "      <td>0.669207</td>\n",
       "      <td>0.658014</td>\n",
       "      <td>0.669207</td>\n",
       "      <td>0.629237</td>\n",
       "    </tr>\n",
       "    <tr>\n",
       "      <th>5</th>\n",
       "      <td>AdaBoostClassifier</td>\n",
       "      <td>0.638720</td>\n",
       "      <td>0.662579</td>\n",
       "      <td>0.638720</td>\n",
       "      <td>0.520626</td>\n",
       "    </tr>\n",
       "    <tr>\n",
       "      <th>6</th>\n",
       "      <td>SVC</td>\n",
       "      <td>0.692073</td>\n",
       "      <td>0.690187</td>\n",
       "      <td>0.692073</td>\n",
       "      <td>0.657145</td>\n",
       "    </tr>\n",
       "    <tr>\n",
       "      <th>7</th>\n",
       "      <td>KNeighborsClassifier</td>\n",
       "      <td>0.631098</td>\n",
       "      <td>0.619428</td>\n",
       "      <td>0.631098</td>\n",
       "      <td>0.622673</td>\n",
       "    </tr>\n",
       "  </tbody>\n",
       "</table>\n",
       "</div>"
      ],
      "text/plain": [
       "                        model  accuracy  precision    recall  f1_score\n",
       "0          LogisticRegression  0.628049   0.394445  0.628049  0.484562\n",
       "1      DecisionTreeClassifier  0.573171   0.580383  0.573171  0.576264\n",
       "2      RandomForestClassifier  0.670732   0.656770  0.670732  0.642212\n",
       "3                  GaussianNB  0.631098   0.600287  0.631098  0.583681\n",
       "4  GradientBoostingClassifier  0.669207   0.658014  0.669207  0.629237\n",
       "5          AdaBoostClassifier  0.638720   0.662579  0.638720  0.520626\n",
       "6                         SVC  0.692073   0.690187  0.692073  0.657145\n",
       "7        KNeighborsClassifier  0.631098   0.619428  0.631098  0.622673"
      ]
     },
     "execution_count": 4,
     "metadata": {},
     "output_type": "execute_result"
    }
   ],
   "source": [
    "df"
   ]
  },
  {
   "cell_type": "code",
   "execution_count": 5,
   "metadata": {},
   "outputs": [
    {
     "data": {
      "text/html": [
       "<div>\n",
       "<style scoped>\n",
       "    .dataframe tbody tr th:only-of-type {\n",
       "        vertical-align: middle;\n",
       "    }\n",
       "\n",
       "    .dataframe tbody tr th {\n",
       "        vertical-align: top;\n",
       "    }\n",
       "\n",
       "    .dataframe thead th {\n",
       "        text-align: right;\n",
       "    }\n",
       "</style>\n",
       "<table border=\"1\" class=\"dataframe\">\n",
       "  <thead>\n",
       "    <tr style=\"text-align: right;\">\n",
       "      <th></th>\n",
       "      <th>model</th>\n",
       "      <th>accuracy</th>\n",
       "      <th>precision</th>\n",
       "      <th>recall</th>\n",
       "      <th>f1_score</th>\n",
       "    </tr>\n",
       "  </thead>\n",
       "  <tbody>\n",
       "    <tr>\n",
       "      <th>0</th>\n",
       "      <td>LogisticRegression</td>\n",
       "      <td>0.628049</td>\n",
       "      <td>0.394445</td>\n",
       "      <td>0.628049</td>\n",
       "      <td>0.484562</td>\n",
       "    </tr>\n",
       "    <tr>\n",
       "      <th>5</th>\n",
       "      <td>AdaBoostClassifier</td>\n",
       "      <td>0.638720</td>\n",
       "      <td>0.662579</td>\n",
       "      <td>0.638720</td>\n",
       "      <td>0.520626</td>\n",
       "    </tr>\n",
       "    <tr>\n",
       "      <th>1</th>\n",
       "      <td>DecisionTreeClassifier</td>\n",
       "      <td>0.573171</td>\n",
       "      <td>0.580383</td>\n",
       "      <td>0.573171</td>\n",
       "      <td>0.576264</td>\n",
       "    </tr>\n",
       "    <tr>\n",
       "      <th>3</th>\n",
       "      <td>GaussianNB</td>\n",
       "      <td>0.631098</td>\n",
       "      <td>0.600287</td>\n",
       "      <td>0.631098</td>\n",
       "      <td>0.583681</td>\n",
       "    </tr>\n",
       "    <tr>\n",
       "      <th>7</th>\n",
       "      <td>KNeighborsClassifier</td>\n",
       "      <td>0.631098</td>\n",
       "      <td>0.619428</td>\n",
       "      <td>0.631098</td>\n",
       "      <td>0.622673</td>\n",
       "    </tr>\n",
       "    <tr>\n",
       "      <th>4</th>\n",
       "      <td>GradientBoostingClassifier</td>\n",
       "      <td>0.669207</td>\n",
       "      <td>0.658014</td>\n",
       "      <td>0.669207</td>\n",
       "      <td>0.629237</td>\n",
       "    </tr>\n",
       "    <tr>\n",
       "      <th>2</th>\n",
       "      <td>RandomForestClassifier</td>\n",
       "      <td>0.670732</td>\n",
       "      <td>0.656770</td>\n",
       "      <td>0.670732</td>\n",
       "      <td>0.642212</td>\n",
       "    </tr>\n",
       "    <tr>\n",
       "      <th>6</th>\n",
       "      <td>SVC</td>\n",
       "      <td>0.692073</td>\n",
       "      <td>0.690187</td>\n",
       "      <td>0.692073</td>\n",
       "      <td>0.657145</td>\n",
       "    </tr>\n",
       "  </tbody>\n",
       "</table>\n",
       "</div>"
      ],
      "text/plain": [
       "                        model  accuracy  precision    recall  f1_score\n",
       "0          LogisticRegression  0.628049   0.394445  0.628049  0.484562\n",
       "5          AdaBoostClassifier  0.638720   0.662579  0.638720  0.520626\n",
       "1      DecisionTreeClassifier  0.573171   0.580383  0.573171  0.576264\n",
       "3                  GaussianNB  0.631098   0.600287  0.631098  0.583681\n",
       "7        KNeighborsClassifier  0.631098   0.619428  0.631098  0.622673\n",
       "4  GradientBoostingClassifier  0.669207   0.658014  0.669207  0.629237\n",
       "2      RandomForestClassifier  0.670732   0.656770  0.670732  0.642212\n",
       "6                         SVC  0.692073   0.690187  0.692073  0.657145"
      ]
     },
     "execution_count": 5,
     "metadata": {},
     "output_type": "execute_result"
    }
   ],
   "source": [
    "df.sort_values(by=\"f1_score\")"
   ]
  },
  {
   "cell_type": "markdown",
   "metadata": {},
   "source": [
    "<b>\n",
    "<ul> <li>1. SVC with 65% of F1 score</li>\n",
    "<li>2. Random Forest Classifier with 64.2 f1 score</li>\n",
    "</ul</b>"
   ]
  },
  {
   "cell_type": "code",
   "execution_count": 2,
   "metadata": {},
   "outputs": [],
   "source": [
    "from sklearn.svm import SVC\n",
    "from sklearn.ensemble import RandomForestClassifier\n",
    "# Hyperparameter Tuning for SVC and Random Forest Classifier\n",
    "\n",
    "param_grids={\n",
    "    'Support Vector Machine': {'C': [0.1, 1, 10], 'gamma': [0.1, 0.01, 0.001,\"scale\"], 'kernel': ['rbf',\"linear\"]},\n",
    "    'Random Forest': {'n_estimators': [50, 100, 150], 'max_depth': [None, 5, 10,15],'min_samples_split': [2, 5]}\n",
    "\n",
    "}\n",
    "\n",
    "best_estimators={}\n",
    "\n",
    "models = {\n",
    "    'Support Vector Machine': SVC(),\n",
    "    'Random Forest': RandomForestClassifier(),\n",
    "}\n"
   ]
  },
  {
   "cell_type": "code",
   "execution_count": 3,
   "metadata": {},
   "outputs": [],
   "source": [
    "from sklearn.model_selection import GridSearchCV, RandomizedSearchCV\n",
    "for model_name, model in models.items():\n",
    "    if model_name in param_grids:  # Check if the model requires tuning\n",
    "        param_grid = param_grids[model_name]\n",
    "        \n",
    "        # Perform Grid Search or Randomized Search based on the size of the parameter grid\n",
    "        if len(param_grid) < 6:\n",
    "            # Perform Grid Search\n",
    "            grid_search = GridSearchCV(model, param_grid, cv=5, scoring='accuracy', verbose=1, n_jobs=-1)\n",
    "        else:\n",
    "            # Perform Randomized Search\n",
    "            grid_search = RandomizedSearchCV(model, param_grid, n_iter=10, cv=5, scoring='accuracy', verbose=1, n_jobs=-1)\n",
    "        "
   ]
  },
  {
   "cell_type": "code",
   "execution_count": 6,
   "metadata": {},
   "outputs": [
    {
     "name": "stdout",
     "output_type": "stream",
     "text": [
      "Data successfully loaded from D:/water_potability/WaterPotability/data/processed/processed_data.csv\n"
     ]
    }
   ],
   "source": [
    "from data.load_data import load_data\n",
    "data = load_data(\"D:/water_potability/WaterPotability/data/processed/processed_data.csv\")"
   ]
  },
  {
   "cell_type": "code",
   "execution_count": 7,
   "metadata": {},
   "outputs": [],
   "source": [
    "X = data.drop('Potability', axis=1) \n",
    "y = data['Potability']"
   ]
  },
  {
   "cell_type": "code",
   "execution_count": 8,
   "metadata": {},
   "outputs": [],
   "source": [
    "from sklearn.model_selection import train_test_split\n",
    "X_train, X_test, y_train, y_test = train_test_split(X, y, test_size=0.2, random_state=42)"
   ]
  },
  {
   "cell_type": "code",
   "execution_count": 9,
   "metadata": {},
   "outputs": [
    {
     "name": "stdout",
     "output_type": "stream",
     "text": [
      "Fitting 5 folds for each of 24 candidates, totalling 120 fits\n"
     ]
    }
   ],
   "source": [
    "grid_search.fit(X_train, y_train)\n",
    "best_estimators[model_name] = grid_search.best_estimator_\n"
   ]
  },
  {
   "cell_type": "code",
   "execution_count": 10,
   "metadata": {},
   "outputs": [
    {
     "name": "stdout",
     "output_type": "stream",
     "text": [
      "Best parameters for Random Forest: {'max_depth': None, 'min_samples_split': 5, 'n_estimators': 150}\n",
      "Training Accuracy: 0.6767175572519084\n"
     ]
    }
   ],
   "source": [
    "print(f\"Best parameters for {model_name}: {grid_search.best_params_}\")\n",
    "print(f\"Training Accuracy: {grid_search.best_score_}\")"
   ]
  },
  {
   "cell_type": "code",
   "execution_count": 11,
   "metadata": {},
   "outputs": [
    {
     "name": "stdout",
     "output_type": "stream",
     "text": [
      "Fitting 5 folds for each of 24 candidates, totalling 120 fits\n",
      "Best parameters for Support Vector Machine: {'C': 10, 'gamma': 0.1, 'kernel': 'rbf'}\n",
      "Training Accuracy: 0.6725190839694657\n",
      "Fitting 5 folds for each of 24 candidates, totalling 120 fits\n",
      "Best parameters for Random Forest: {'max_depth': None, 'min_samples_split': 2, 'n_estimators': 100}\n",
      "Training Accuracy: 0.6790076335877864\n"
     ]
    }
   ],
   "source": [
    "from sklearn.model_selection import GridSearchCV, RandomizedSearchCV\n",
    "for model_name, model in models.items():\n",
    "    if model_name in param_grids:  # Check if the model requires tuning\n",
    "        param_grid = param_grids[model_name]\n",
    "        \n",
    "        # Perform Grid Search or Randomized Search based on the size of the parameter grid\n",
    "        if len(param_grid) < 6:\n",
    "            # Perform Grid Search\n",
    "            grid_search = GridSearchCV(model, param_grid, cv=5, scoring='accuracy', verbose=1, n_jobs=-1)\n",
    "        else:\n",
    "            # Perform Randomized Search\n",
    "            grid_search = RandomizedSearchCV(model, param_grid, n_iter=10, cv=5, scoring='accuracy', verbose=1, n_jobs=-1)\n",
    "        \n",
    "        grid_search.fit(X_train, y_train)\n",
    "        best_estimators[model_name] = grid_search.best_estimator_\n",
    "\n",
    "        print(f\"Best parameters for {model_name}: {grid_search.best_params_}\")\n",
    "        print(f\"Training Accuracy: {grid_search.best_score_}\")"
   ]
  },
  {
   "cell_type": "markdown",
   "metadata": {},
   "source": [
    "# SVC will be chosen as the best model"
   ]
  }
 ],
 "metadata": {
  "kernelspec": {
   "display_name": "Python 3",
   "language": "python",
   "name": "python3"
  },
  "language_info": {
   "codemirror_mode": {
    "name": "ipython",
    "version": 3
   },
   "file_extension": ".py",
   "mimetype": "text/x-python",
   "name": "python",
   "nbconvert_exporter": "python",
   "pygments_lexer": "ipython3",
   "version": "3.10.0"
  }
 },
 "nbformat": 4,
 "nbformat_minor": 2
}
